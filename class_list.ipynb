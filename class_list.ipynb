{
  "nbformat": 4,
  "nbformat_minor": 0,
  "metadata": {
    "colab": {
      "provenance": [],
      "authorship_tag": "ABX9TyMWmey5Nwo+5gBiS3xS92aS",
      "include_colab_link": true
    },
    "kernelspec": {
      "name": "python3",
      "display_name": "Python 3"
    },
    "language_info": {
      "name": "python"
    }
  },
  "cells": [
    {
      "cell_type": "markdown",
      "metadata": {
        "id": "view-in-github",
        "colab_type": "text"
      },
      "source": [
        "<a href=\"https://colab.research.google.com/github/abadathossain/AbadatHossain/blob/main/class_list.ipynb\" target=\"_parent\"><img src=\"https://colab.research.google.com/assets/colab-badge.svg\" alt=\"Open In Colab\"/></a>"
      ]
    },
    {
      "cell_type": "code",
      "execution_count": null,
      "metadata": {
        "id": "4dMBP8UwoT2W",
        "colab": {
          "base_uri": "https://localhost:8080/"
        },
        "outputId": "33737934-be8a-4d8c-cc40-591f18c6a5b5"
      },
      "outputs": [
        {
          "output_type": "stream",
          "name": "stdout",
          "text": [
            "Hello\n"
          ]
        }
      ],
      "source": [
        "class Person:\n",
        "  def __init__(self):\n",
        "    print(\"Hello\")\n",
        "\n",
        "obj = Person()"
      ]
    },
    {
      "cell_type": "code",
      "source": [
        "#commets"
      ],
      "metadata": {
        "id": "13Not8CxsVxi"
      },
      "execution_count": null,
      "outputs": []
    },
    {
      "cell_type": "markdown",
      "source": [],
      "metadata": {
        "id": "HF-Kru-cwSgl"
      }
    }
  ]
}