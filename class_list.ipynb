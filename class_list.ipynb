{
  "nbformat": 4,
  "nbformat_minor": 0,
  "metadata": {
    "colab": {
      "provenance": [],
      "authorship_tag": "ABX9TyMboy6KhRQaWz5ZRK53+MNu",
      "include_colab_link": true
    },
    "kernelspec": {
      "name": "python3",
      "display_name": "Python 3"
    },
    "language_info": {
      "name": "python"
    }
  },
  "cells": [
    {
      "cell_type": "markdown",
      "metadata": {
        "id": "view-in-github",
        "colab_type": "text"
      },
      "source": [
        "<a href=\"https://colab.research.google.com/github/abadathossain/AbadatHossain/blob/main/class_list.ipynb\" target=\"_parent\"><img src=\"https://colab.research.google.com/assets/colab-badge.svg\" alt=\"Open In Colab\"/></a>"
      ]
    },
    {
      "cell_type": "code",
      "execution_count": 12,
      "metadata": {
        "id": "4dMBP8UwoT2W",
        "colab": {
          "base_uri": "https://localhost:8080/"
        },
        "outputId": "c72e67de-44bf-4004-d7c1-2defa2dfdc34"
      },
      "outputs": [
        {
          "output_type": "stream",
          "name": "stdout",
          "text": [
            "Hello Karim and did not match\n"
          ]
        }
      ],
      "source": [
        "from os import name\n",
        "class Person:\n",
        "  def __init__(self,name,country):\n",
        "    self.name=name\n",
        "    self.country=country\n",
        "\n",
        "  # def greettings(self):\n",
        "  #   print(f\"Hello {self.name} and {self.country}\")\n",
        "\n",
        "  def greetings2(self):\n",
        "    if self.country==\"BD\":\n",
        "      print(f\"Hello {self.name} and {self.country}\")\n",
        "    else:\n",
        "      print(f\"Hello {self.name} and did not match\")\n",
        "\n",
        "obj=Person(\"Karim\",\"BDD\")\n",
        "obj.greetings2()\n"
      ]
    },
    {
      "cell_type": "code",
      "source": [
        "#commets"
      ],
      "metadata": {
        "id": "13Not8CxsVxi"
      },
      "execution_count": null,
      "outputs": []
    },
    {
      "cell_type": "markdown",
      "source": [],
      "metadata": {
        "id": "HF-Kru-cwSgl"
      }
    }
  ]
}