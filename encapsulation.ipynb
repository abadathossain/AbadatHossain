{
  "nbformat": 4,
  "nbformat_minor": 0,
  "metadata": {
    "colab": {
      "provenance": [],
      "authorship_tag": "ABX9TyM4cXveaS4nrVjqinOsF+c3",
      "include_colab_link": true
    },
    "kernelspec": {
      "name": "python3",
      "display_name": "Python 3"
    },
    "language_info": {
      "name": "python"
    }
  },
  "cells": [
    {
      "cell_type": "markdown",
      "metadata": {
        "id": "view-in-github",
        "colab_type": "text"
      },
      "source": [
        "<a href=\"https://colab.research.google.com/github/abadathossain/AbadatHossain/blob/main/encapsulation.ipynb\" target=\"_parent\"><img src=\"https://colab.research.google.com/assets/colab-badge.svg\" alt=\"Open In Colab\"/></a>"
      ]
    },
    {
      "cell_type": "code",
      "execution_count": 11,
      "metadata": {
        "colab": {
          "base_uri": "https://localhost:8080/"
        },
        "id": "h-7YSmewLaVJ",
        "outputId": "7a8eb61d-855e-4d7f-f346-5714dd6428c4"
      },
      "outputs": [
        {
          "output_type": "stream",
          "name": "stdout",
          "text": [
            "Hello Abc and did not match\n"
          ]
        }
      ],
      "source": [
        "class Person:\n",
        "  def __init__(self,name,country):\n",
        "    self.__name=name  ##private variable\n",
        "    self.country=country\n",
        "\n",
        "\n",
        "  def greetings2(self):\n",
        "    if self.country==\"BD\":\n",
        "      print(f\"Hello {self.__name} and {self.country}\")\n",
        "    else:\n",
        "      print(f\"Hello {self.__name} and did not match\")\n",
        "\n",
        "obj=Person(\"Karim\",\"BDD\")\n",
        "obj._Person__name=\"Abc\" ##recommended format for change encapsulation\n",
        "obj.greetings2()\n"
      ]
    },
    {
      "cell_type": "code",
      "source": [],
      "metadata": {
        "id": "4RTMl1RuLtmT"
      },
      "execution_count": 7,
      "outputs": []
    }
  ]
}