{
  "nbformat": 4,
  "nbformat_minor": 0,
  "metadata": {
    "colab": {
      "provenance": [],
      "authorship_tag": "ABX9TyOLJrrHO5/8LziVlpcEAsxV",
      "include_colab_link": true
    },
    "kernelspec": {
      "name": "python3",
      "display_name": "Python 3"
    },
    "language_info": {
      "name": "python"
    }
  },
  "cells": [
    {
      "cell_type": "markdown",
      "metadata": {
        "id": "view-in-github",
        "colab_type": "text"
      },
      "source": [
        "<a href=\"https://colab.research.google.com/github/abadathossain/AbadatHossain/blob/main/atmMachine.ipynb\" target=\"_parent\"><img src=\"https://colab.research.google.com/assets/colab-badge.svg\" alt=\"Open In Colab\"/></a>"
      ]
    },
    {
      "cell_type": "code",
      "execution_count": null,
      "metadata": {
        "colab": {
          "base_uri": "https://localhost:8080/"
        },
        "id": "y9ANOaeWG-CK",
        "outputId": "45e6fb63-b0d7-4e17-bf5f-2b609e88a316"
      },
      "outputs": [
        {
          "output_type": "stream",
          "name": "stdout",
          "text": [
            "\n",
            "      Hello, how would you like to proceed?\n",
            "      1. Enter 1 to create pin\n",
            "      0. Enter 0 to change pin\n",
            "      2. Enter 2 to deposit\n",
            "      3. Enter 3 to withdraw\n",
            "      4. Enter 4 to check balance\n",
            "      5. Enter 5 to exit\n",
            "      1\n",
            "Enter your pin123\n",
            "Enter balance100\n",
            "Pin created successfully\n",
            "\n",
            "      Hello, how would you like to proceed?\n",
            "      1. Enter 1 to create pin\n",
            "      0. Enter 0 to change pin\n",
            "      2. Enter 2 to deposit\n",
            "      3. Enter 3 to withdraw\n",
            "      4. Enter 4 to check balance\n",
            "      5. Enter 5 to exit\n",
            "      0\n",
            "Enter old pin123\n",
            "Enter new pin456\n",
            "Pin changed successfully\n"
          ]
        }
      ],
      "source": [
        "class AtmMachine:\n",
        "    def __init__(self):\n",
        "        self.pin = \"\"\n",
        "        self.balance = 0\n",
        "        # print(\"I am constructor\")\n",
        "        self.menu()\n",
        "\n",
        "    def menu(self):\n",
        "      user_input=input(\"\"\"\n",
        "      Hello, how would you like to proceed?\n",
        "      1. Enter 1 to create pin\n",
        "      0. Enter 0 to change pin\n",
        "      2. Enter 2 to deposit\n",
        "      3. Enter 3 to withdraw\n",
        "      4. Enter 4 to check balance\n",
        "      5. Enter 5 to exit\n",
        "      \"\"\")\n",
        "      if user_input==\"1\":\n",
        "        self.create_pin()\n",
        "\n",
        "      elif user_input==\"0\":\n",
        "        self.change_pin()\n",
        "\n",
        "      elif user_input==\"2\":\n",
        "        self.deposit()\n",
        "\n",
        "      elif user_input==\"3\":\n",
        "        self.withdraw()\n",
        "\n",
        "      elif user_input==\"4\":\n",
        "        self.check_balance()\n",
        "\n",
        "      else :\n",
        "        exit()\n",
        "\n",
        "    def create_pin(self):\n",
        "        user_pin=input(\"Enter your pin\")\n",
        "        self.pin=user_pin\n",
        "\n",
        "        user_balance=int(input(\"Enter balance\"))\n",
        "        self.balance=user_balance\n",
        "        print(\"Pin created successfully\")\n",
        "        self.menu()\n",
        "\n",
        "    def change_pin(self):\n",
        "        old_pin=input(\"Enter old pin\")\n",
        "        if old_pin==self.pin:\n",
        "            new_pin=input(\"Enter new pin\")\n",
        "            self.pin=new_pin\n",
        "            print(\"Pin changed successfully\")\n",
        "            self.menu()\n",
        "        else:\n",
        "            print(\"Invalid pin\")\n",
        "            self.menu()\n",
        "\n",
        "\n",
        "\n",
        "atm=AtmMachine()\n",
        "# atm.menu()\n"
      ]
    },
    {
      "cell_type": "code",
      "source": [],
      "metadata": {
        "id": "ICUqS1wH71kH"
      },
      "execution_count": null,
      "outputs": []
    }
  ]
}