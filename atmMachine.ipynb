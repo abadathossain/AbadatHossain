{
  "nbformat": 4,
  "nbformat_minor": 0,
  "metadata": {
    "colab": {
      "provenance": [],
      "authorship_tag": "ABX9TyM2f2A1Xh4MGuVbRbH11nzs",
      "include_colab_link": true
    },
    "kernelspec": {
      "name": "python3",
      "display_name": "Python 3"
    },
    "language_info": {
      "name": "python"
    }
  },
  "cells": [
    {
      "cell_type": "markdown",
      "metadata": {
        "id": "view-in-github",
        "colab_type": "text"
      },
      "source": [
        "<a href=\"https://colab.research.google.com/github/abadathossain/AbadatHossain/blob/main/atmMachine.ipynb\" target=\"_parent\"><img src=\"https://colab.research.google.com/assets/colab-badge.svg\" alt=\"Open In Colab\"/></a>"
      ]
    },
    {
      "cell_type": "code",
      "execution_count": null,
      "metadata": {
        "colab": {
          "base_uri": "https://localhost:8080/"
        },
        "id": "y9ANOaeWG-CK",
        "outputId": "91d8229a-3420-4b62-ae3c-3c7852cd717f"
      },
      "outputs": [
        {
          "name": "stdout",
          "output_type": "stream",
          "text": [
            "\n",
            "      Hello, how would you like to proceed?\n",
            "      1. Enter 1 to create pin\n",
            "      2. Enter 2 to deposit\n",
            "      3. Enter 3 to withdraw\n",
            "      4. Enter 4 to check balance\n",
            "      5. Enter 5 to exit\n",
            "      1\n",
            "Enter your pin123\n",
            "Enter balance200\n"
          ]
        }
      ],
      "source": [
        "class AtmMachine:\n",
        "    def __init__(self):\n",
        "        self.pin = \"\"\n",
        "        self.balance = 0\n",
        "        # print(\"I am constructor\")\n",
        "        self.menu()\n",
        "\n",
        "    def menu(self):\n",
        "      user_input=input(\"\"\"\n",
        "      Hello, how would you like to proceed?\n",
        "      1. Enter 1 to create pin\n",
        "      2. Enter 2 to deposit\n",
        "      3. Enter 3 to withdraw\n",
        "      4. Enter 4 to check balance\n",
        "      5. Enter 5 to exit\n",
        "      \"\"\")\n",
        "      if user_input==\"1\":\n",
        "        self.create_pin()\n",
        "\n",
        "      elif user_input==\"2\":\n",
        "        self.deposit()\n",
        "\n",
        "      elif user_input==\"3\":\n",
        "        self.withdraw()\n",
        "\n",
        "      elif user_input==\"4\":\n",
        "        self.check_balance()\n",
        "\n",
        "      else :\n",
        "        exit()\n",
        "\n",
        "    def create_pin(self):\n",
        "        user_pin=input(\"Enter your pin\")\n",
        "        self.pin=user_pin\n",
        "\n",
        "        user_balance=int(input(\"Enter balance\"))\n",
        "        self.balance=user_balance\n",
        "        self.menu()\n",
        "\n",
        "        print(\"Pin created successfully\")\n",
        "\n",
        "atm=AtmMachine()\n",
        "# atm.menu()\n"
      ]
    },
    {
      "cell_type": "code",
      "source": [],
      "metadata": {
        "id": "sIDWu0fyQLTi"
      },
      "execution_count": null,
      "outputs": []
    }
  ]
}