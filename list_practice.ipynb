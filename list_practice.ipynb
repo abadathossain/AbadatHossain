{
  "nbformat": 4,
  "nbformat_minor": 0,
  "metadata": {
    "colab": {
      "provenance": [],
      "authorship_tag": "ABX9TyMXTjiXUWxRNl+aQItdvAve",
      "include_colab_link": true
    },
    "kernelspec": {
      "name": "python3",
      "display_name": "Python 3"
    },
    "language_info": {
      "name": "python"
    }
  },
  "cells": [
    {
      "cell_type": "markdown",
      "metadata": {
        "id": "view-in-github",
        "colab_type": "text"
      },
      "source": [
        "<a href=\"https://colab.research.google.com/github/abadathossain/AbadatHossain/blob/main/list_practice.ipynb\" target=\"_parent\"><img src=\"https://colab.research.google.com/assets/colab-badge.svg\" alt=\"Open In Colab\"/></a>"
      ]
    },
    {
      "cell_type": "code",
      "execution_count": null,
      "metadata": {
        "colab": {
          "base_uri": "https://localhost:8080/"
        },
        "id": "QbJ78-tyJ-um",
        "outputId": "8a95dcf1-6045-4519-cbad-55a0da3d1550"
      },
      "outputs": [
        {
          "output_type": "stream",
          "name": "stdout",
          "text": [
            "[6, 16, 26, 36, 46, 56, 66, 76, 86, 96]\n",
            "[1, 4, 3, 16, 5, 36]\n",
            "[4, 16, 36]\n"
          ]
        }
      ],
      "source": [
        "a=list(range(1,100,5))\n",
        "# print(a)\n",
        "\n",
        "# for item in a:\n",
        "#   # print(item)\n",
        "\n",
        "#   if item%2==0:\n",
        "#     print(item)\n",
        "\n",
        "result=[]\n",
        "for item in a:\n",
        "\n",
        "  if item %2==0:\n",
        "    result.append(item)\n",
        "\n",
        "  # print(result)\n",
        "\n",
        "new_result=[item for item in a if item%2==0]\n",
        "print(new_result)\n",
        "\n",
        "b=[1,2,3,4,5,6]\n",
        "\n",
        "s_result=[item**2 if item %2 == 0 else item for item in b]\n",
        "print(s_result)\n",
        "\n",
        "ss_result = [item**2 for item in b if item % 2 == 0]\n",
        "print(ss_result)\n",
        "\n",
        "\n",
        "\n",
        "\n",
        "\n",
        "\n",
        "\n"
      ]
    }
  ]
}